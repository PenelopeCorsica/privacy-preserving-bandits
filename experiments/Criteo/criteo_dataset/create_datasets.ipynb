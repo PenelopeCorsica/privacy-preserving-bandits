{
 "cells": [
  {
   "cell_type": "markdown",
   "metadata": {},
   "source": [
    "### Note:\n",
    "Before running this you need to download datasets from this address:\n",
    "http://labs.criteo.com/2014/02/kaggle-display-advertising-challenge-dataset//\n",
    "\n",
    "Then, you need to choose your desired `nrows`. In our paper we use `nrows=1000000000`."
   ]
  },
  {
   "cell_type": "code",
   "execution_count": null,
   "metadata": {},
   "outputs": [],
   "source": [
    "import numpy as np\n",
    "import pandas as pd\n",
    "\n",
    "def create_dataset(nrows, data_type=\"train\"):\n",
    "    if data_type == \"train\":\n",
    "        data = pd.read_csv(\"train.csv\", nrows=nrows)\n",
    "    elif data_type == \"test\":\n",
    "        data = pd.read_csv(\"test.csv\", nrows=nrows)\n",
    "    else:\n",
    "        print(\"wrong data type!\")\n",
    "        \n",
    "    print(data.columns)\n",
    "    col=0\n",
    "    for i in range(data.shape[1]):\n",
    "        if data.iloc[:,col].isnull().sum()/len(data) > .40:\n",
    "            print(\"Column \"+str(i)+\" is droped\")\n",
    "            data = data.drop(data.columns[col], axis=1)\n",
    "        else:\n",
    "            col += 1\n",
    "    data = data.fillna(method='ffill', axis= \"index\")\n",
    "    data = data.fillna(method='bfill', axis= \"index\")\n",
    "    \n",
    "    ## feature I2 is the only feature that has negative values. (-1,-2,-3)\n",
    "    ## WLOG we add +3 to each value.\n",
    "    data[\"I2\"] +=3\n",
    "    \n",
    "    data['I2'] = data['I2'].astype(float)\n",
    "    for i in range(1, 27):\n",
    "        col = 'C' + str(i)\n",
    "        if col in data.columns:\n",
    "            data['C' + str(i)] = data['C' + str(i)].astype('category')\n",
    "            data['C' + str(i)] = data['C' + str(i)].cat.codes\n",
    "    \n",
    "    print(\"Shape of all data:\", data.shape)\n",
    "    data = data[data[\"Label\"] == 1]\n",
    "    print(\"Shape of clicked data\", data.shape)\n",
    "    \n",
    "    data.to_csv(data_type+\"_\"+str(nrows)+\"_rows.csv\", index=False)\n",
    "    print(data.shape)\n",
    "\n",
    "##### Please choose your desired number of rows \n",
    "nrows = 1000000000\n",
    "create_dataset(nrows, data_type=\"train\")"
   ]
  },
  {
   "cell_type": "code",
   "execution_count": null,
   "metadata": {},
   "outputs": [],
   "source": [
    "pd.read_csv(\"train_\"+str(nrows)+\"_rows.csv\", nrows=nrows)"
   ]
  }
 ],
 "metadata": {
  "kernelspec": {
   "display_name": "Python 3",
   "language": "python",
   "name": "python3"
  },
  "language_info": {
   "codemirror_mode": {
    "name": "ipython",
    "version": 3
   },
   "file_extension": ".py",
   "mimetype": "text/x-python",
   "name": "python",
   "nbconvert_exporter": "python",
   "pygments_lexer": "ipython3",
   "version": "3.7.3"
  }
 },
 "nbformat": 4,
 "nbformat_minor": 2
}
